{
 "cells": [
  {
   "cell_type": "code",
   "execution_count": 2,
   "id": "07a1c6fd",
   "metadata": {},
   "outputs": [],
   "source": [
    "import mysql.connector as priyanka"
   ]
  },
  {
   "cell_type": "code",
   "execution_count": 3,
   "id": "9c3d79d0",
   "metadata": {},
   "outputs": [],
   "source": [
    "conn=priyanka.connect(host='localhost',user='root')"
   ]
  },
  {
   "cell_type": "code",
   "execution_count": 4,
   "id": "4d465cff",
   "metadata": {},
   "outputs": [],
   "source": [
    "mycur=conn.cursor()"
   ]
  },
  {
   "cell_type": "code",
   "execution_count": 4,
   "id": "3cda819d",
   "metadata": {},
   "outputs": [],
   "source": [
    "sql1='create database Hotel'"
   ]
  },
  {
   "cell_type": "code",
   "execution_count": 4,
   "id": "084d58a7",
   "metadata": {},
   "outputs": [],
   "source": [
    "sql2='use Hotel'"
   ]
  },
  {
   "cell_type": "code",
   "execution_count": 5,
   "id": "0ac71ab3",
   "metadata": {},
   "outputs": [],
   "source": [
    "mycur.execute(sql2)"
   ]
  },
  {
   "cell_type": "code",
   "execution_count": 8,
   "id": "ac1be9ea",
   "metadata": {},
   "outputs": [],
   "source": [
    "sql3='create table checkin(days varchar(50),names varchar(20),aadhar varchar(50),date varchar(20),typenumber varchar(50))'"
   ]
  },
  {
   "cell_type": "code",
   "execution_count": 7,
   "id": "39a34eae",
   "metadata": {},
   "outputs": [],
   "source": [
    "mycur.execute(sql3)"
   ]
  },
  {
   "cell_type": "code",
   "execution_count": 10,
   "id": "ab42a8a2",
   "metadata": {},
   "outputs": [],
   "source": [
    "sql4='create table checkout(typenumber varchar(20),guests int(20),fare int(60),days int(30),tbill int(30),date varchar(50))'"
   ]
  },
  {
   "cell_type": "code",
   "execution_count": 11,
   "id": "8b32dfca",
   "metadata": {},
   "outputs": [],
   "source": [
    "mycur.execute(sql4)"
   ]
  },
  {
   "cell_type": "code",
   "execution_count": 8,
   "id": "f1abfce3",
   "metadata": {},
   "outputs": [],
   "source": [
    "conn.commit()"
   ]
  },
  {
   "cell_type": "code",
   "execution_count": 5,
   "id": "81833a00",
   "metadata": {},
   "outputs": [],
   "source": [
    "conn=priyanka.connect(host='localhost',user='root',database='hotel')"
   ]
  },
  {
   "cell_type": "code",
   "execution_count": null,
   "id": "bab82c60",
   "metadata": {},
   "outputs": [
    {
     "name": "stdout",
     "output_type": "stream",
     "text": [
      "1.Checkin\n",
      "2.Checkout\n",
      "3.Fare and Amenities\n",
      "4.exit\n"
     ]
    }
   ],
   "source": [
    "def checkin():\n",
    "    d=input('days:')\n",
    "    g=input('names:')\n",
    "    a=input(\"Adhar:\")\n",
    "    \n",
    "    dt=input(\"date: \")\n",
    "    b=input('type&number:')\n",
    "    data=(d,g,a,dt,b)\n",
    "    sql='insert into checkin values(%s,%s,%s,%s,%s)'\n",
    "    mycur=conn.cursor()\n",
    "    mycur.execute(sql,data)\n",
    "    conn.commit()\n",
    "    print(\"data entered sucessfully\")\n",
    "    main()\n",
    "\n",
    "def checkout():\n",
    "    b=input('type&number:')\n",
    "    tg=int(input(\"guests:\"))\n",
    "    f=int(input('Fare:'))\n",
    "    d=int(input('days:'))\n",
    "    bl=f*d*tg\n",
    "    cod=input('date:')\n",
    "    data=(b,tg,f,d,bl,cod)\n",
    "    sql='insert into checkout values(%s,%s,%s,%s,%s,%s)'\n",
    "    mycur=conn.cursor()\n",
    "    mycur.execute(sql,data)\n",
    "    conn.commit()\n",
    "    print(\"data entered successfully\")\n",
    "    main()\n",
    "    \n",
    "def rooms():\n",
    "    print(\"Executive-5000/d/g\")\n",
    "    print(\" \")\n",
    "    print(\"\"\"Facilities-wifi,TV,AC,Bathroom With Tub and geyser,Breakfast,lunch,dinner\"\"\")\n",
    "    print(\" \")\n",
    "    print(\"Deluxe-2500/d/g\")\n",
    "    print(\" \")\n",
    "    print(\"\"\"Facilities-wifi,TV,AC,Bathroom with Tub and Geyser\"\"\")\n",
    "    print(\" \")\n",
    "    print(\"Simple-1000/d/g\")\n",
    "    print(\" \")\n",
    "    print(\"\"\"Facilities-wifi,TV,Bathroom With Geyser\"\"\")\n",
    "    main()\n",
    "    \n",
    "def main():\n",
    "    print(\"1.Checkin\")\n",
    "    print(\"2.Checkout\")\n",
    "    print(\"3.Fare and Amenities\")\n",
    "    print(\"4.exit\")\n",
    "    c=int(input(\"Choice:  \"))\n",
    "    if c==1:\n",
    "        checkin()\n",
    "    elif c==2:\n",
    "        checkout()\n",
    "    elif c==3:\n",
    "        rooms()\n",
    "    elif c==0:\n",
    "        print(quit)\n",
    "        quit()\n",
    "        conn.commit()\n",
    "        \n",
    "    else:\n",
    "        print(\"enter a correct choice\")\n",
    "        #exit()\n",
    "    main()\n",
    "main()\n",
    "    \n",
    "    \n",
    "    "
   ]
  },
  {
   "cell_type": "code",
   "execution_count": 7,
   "id": "c508c23a",
   "metadata": {},
   "outputs": [],
   "source": [
    "import pandas as pd"
   ]
  },
  {
   "cell_type": "code",
   "execution_count": 8,
   "id": "70de250b",
   "metadata": {},
   "outputs": [
    {
     "data": {
      "text/html": [
       "<div>\n",
       "<style scoped>\n",
       "    .dataframe tbody tr th:only-of-type {\n",
       "        vertical-align: middle;\n",
       "    }\n",
       "\n",
       "    .dataframe tbody tr th {\n",
       "        vertical-align: top;\n",
       "    }\n",
       "\n",
       "    .dataframe thead th {\n",
       "        text-align: right;\n",
       "    }\n",
       "</style>\n",
       "<table border=\"1\" class=\"dataframe\">\n",
       "  <thead>\n",
       "    <tr style=\"text-align: right;\">\n",
       "      <th></th>\n",
       "      <th>days</th>\n",
       "      <th>names</th>\n",
       "      <th>aadhar</th>\n",
       "      <th>date</th>\n",
       "      <th>typenumber</th>\n",
       "    </tr>\n",
       "  </thead>\n",
       "  <tbody>\n",
       "    <tr>\n",
       "      <th>0</th>\n",
       "      <td>2</td>\n",
       "      <td>priyanka,om</td>\n",
       "      <td>906690669066</td>\n",
       "      <td>10/2/2020</td>\n",
       "      <td>e10</td>\n",
       "    </tr>\n",
       "    <tr>\n",
       "      <th>1</th>\n",
       "      <td>6</td>\n",
       "      <td>manu</td>\n",
       "      <td>121212121212</td>\n",
       "      <td>6/8/2020</td>\n",
       "      <td>e20</td>\n",
       "    </tr>\n",
       "    <tr>\n",
       "      <th>2</th>\n",
       "      <td>2</td>\n",
       "      <td>priyanka,om</td>\n",
       "      <td>960096009600</td>\n",
       "      <td>10/2/2020</td>\n",
       "      <td>e10</td>\n",
       "    </tr>\n",
       "    <tr>\n",
       "      <th>3</th>\n",
       "      <td>3</td>\n",
       "      <td>manu</td>\n",
       "      <td>300030003000</td>\n",
       "      <td>11/2/2020</td>\n",
       "      <td>e20</td>\n",
       "    </tr>\n",
       "    <tr>\n",
       "      <th>4</th>\n",
       "      <td>5</td>\n",
       "      <td>samu</td>\n",
       "      <td>450045004500</td>\n",
       "      <td>15/2/2020</td>\n",
       "      <td>e30</td>\n",
       "    </tr>\n",
       "    <tr>\n",
       "      <th>5</th>\n",
       "      <td>2</td>\n",
       "      <td>priyanka</td>\n",
       "      <td>960096009600</td>\n",
       "      <td>10/2/2020</td>\n",
       "      <td>e10</td>\n",
       "    </tr>\n",
       "    <tr>\n",
       "      <th>6</th>\n",
       "      <td>3</td>\n",
       "      <td>manu</td>\n",
       "      <td>120012001200</td>\n",
       "      <td>11/2/2020</td>\n",
       "      <td>e20</td>\n",
       "    </tr>\n",
       "    <tr>\n",
       "      <th>7</th>\n",
       "      <td>4</td>\n",
       "      <td>samu</td>\n",
       "      <td>505050505050</td>\n",
       "      <td>12/2/2020</td>\n",
       "      <td>e30</td>\n",
       "    </tr>\n",
       "    <tr>\n",
       "      <th>8</th>\n",
       "      <td>2</td>\n",
       "      <td>priyanka,om</td>\n",
       "      <td>202020202020</td>\n",
       "      <td>10/2/2020</td>\n",
       "      <td>e10</td>\n",
       "    </tr>\n",
       "    <tr>\n",
       "      <th>9</th>\n",
       "      <td>2</td>\n",
       "      <td>priyanka,om</td>\n",
       "      <td>1212121212</td>\n",
       "      <td>10/2/2020</td>\n",
       "      <td>e10</td>\n",
       "    </tr>\n",
       "  </tbody>\n",
       "</table>\n",
       "</div>"
      ],
      "text/plain": [
       "  days        names        aadhar       date typenumber\n",
       "0    2  priyanka,om  906690669066  10/2/2020        e10\n",
       "1    6         manu  121212121212   6/8/2020        e20\n",
       "2    2  priyanka,om  960096009600  10/2/2020        e10\n",
       "3    3         manu  300030003000  11/2/2020        e20\n",
       "4    5         samu  450045004500  15/2/2020        e30\n",
       "5    2     priyanka  960096009600  10/2/2020        e10\n",
       "6    3         manu  120012001200  11/2/2020        e20\n",
       "7    4         samu  505050505050  12/2/2020        e30\n",
       "8    2  priyanka,om  202020202020  10/2/2020        e10\n",
       "9    2  priyanka,om    1212121212  10/2/2020        e10"
      ]
     },
     "execution_count": 8,
     "metadata": {},
     "output_type": "execute_result"
    }
   ],
   "source": [
    "pd.read_sql_query(\"select*from checkin\",conn)"
   ]
  },
  {
   "cell_type": "code",
   "execution_count": 10,
   "id": "7ceba944",
   "metadata": {},
   "outputs": [],
   "source": [
    "x=pd.read_sql_query(\"select*from checkout\",conn)"
   ]
  },
  {
   "cell_type": "code",
   "execution_count": 11,
   "id": "d4aa5986",
   "metadata": {},
   "outputs": [
    {
     "data": {
      "text/html": [
       "<div>\n",
       "<style scoped>\n",
       "    .dataframe tbody tr th:only-of-type {\n",
       "        vertical-align: middle;\n",
       "    }\n",
       "\n",
       "    .dataframe tbody tr th {\n",
       "        vertical-align: top;\n",
       "    }\n",
       "\n",
       "    .dataframe thead th {\n",
       "        text-align: right;\n",
       "    }\n",
       "</style>\n",
       "<table border=\"1\" class=\"dataframe\">\n",
       "  <thead>\n",
       "    <tr style=\"text-align: right;\">\n",
       "      <th></th>\n",
       "      <th>typenumber</th>\n",
       "      <th>guests</th>\n",
       "      <th>fare</th>\n",
       "      <th>days</th>\n",
       "      <th>tbill</th>\n",
       "      <th>date</th>\n",
       "    </tr>\n",
       "  </thead>\n",
       "  <tbody>\n",
       "    <tr>\n",
       "      <th>0</th>\n",
       "      <td>e10</td>\n",
       "      <td>2</td>\n",
       "      <td>5000</td>\n",
       "      <td>2</td>\n",
       "      <td>20000</td>\n",
       "      <td>12/2/2020</td>\n",
       "    </tr>\n",
       "    <tr>\n",
       "      <th>1</th>\n",
       "      <td>e10</td>\n",
       "      <td>2</td>\n",
       "      <td>5000</td>\n",
       "      <td>2</td>\n",
       "      <td>20000</td>\n",
       "      <td>12/2/2020</td>\n",
       "    </tr>\n",
       "    <tr>\n",
       "      <th>2</th>\n",
       "      <td>e20</td>\n",
       "      <td>1</td>\n",
       "      <td>2500</td>\n",
       "      <td>6</td>\n",
       "      <td>15000</td>\n",
       "      <td>12/8/2020</td>\n",
       "    </tr>\n",
       "    <tr>\n",
       "      <th>3</th>\n",
       "      <td>e10</td>\n",
       "      <td>2</td>\n",
       "      <td>5000</td>\n",
       "      <td>3</td>\n",
       "      <td>30000</td>\n",
       "      <td>14/2/2020</td>\n",
       "    </tr>\n",
       "    <tr>\n",
       "      <th>4</th>\n",
       "      <td>e10</td>\n",
       "      <td>2</td>\n",
       "      <td>5000</td>\n",
       "      <td>2</td>\n",
       "      <td>20000</td>\n",
       "      <td>12/2/2020</td>\n",
       "    </tr>\n",
       "    <tr>\n",
       "      <th>5</th>\n",
       "      <td>e20</td>\n",
       "      <td>1</td>\n",
       "      <td>2500</td>\n",
       "      <td>3</td>\n",
       "      <td>7500</td>\n",
       "      <td>14/2/2020</td>\n",
       "    </tr>\n",
       "    <tr>\n",
       "      <th>6</th>\n",
       "      <td>e30</td>\n",
       "      <td>1</td>\n",
       "      <td>1000</td>\n",
       "      <td>4</td>\n",
       "      <td>4000</td>\n",
       "      <td>16/2/2020</td>\n",
       "    </tr>\n",
       "    <tr>\n",
       "      <th>7</th>\n",
       "      <td>e10</td>\n",
       "      <td>2</td>\n",
       "      <td>5000</td>\n",
       "      <td>2</td>\n",
       "      <td>20000</td>\n",
       "      <td>12/2/2020</td>\n",
       "    </tr>\n",
       "    <tr>\n",
       "      <th>8</th>\n",
       "      <td>e10</td>\n",
       "      <td>2</td>\n",
       "      <td>5000</td>\n",
       "      <td>2</td>\n",
       "      <td>20000</td>\n",
       "      <td>12/2/2020</td>\n",
       "    </tr>\n",
       "  </tbody>\n",
       "</table>\n",
       "</div>"
      ],
      "text/plain": [
       "  typenumber  guests  fare  days  tbill       date\n",
       "0        e10       2  5000     2  20000  12/2/2020\n",
       "1        e10       2  5000     2  20000  12/2/2020\n",
       "2        e20       1  2500     6  15000  12/8/2020\n",
       "3        e10       2  5000     3  30000  14/2/2020\n",
       "4        e10       2  5000     2  20000  12/2/2020\n",
       "5        e20       1  2500     3   7500  14/2/2020\n",
       "6        e30       1  1000     4   4000  16/2/2020\n",
       "7        e10       2  5000     2  20000  12/2/2020\n",
       "8        e10       2  5000     2  20000  12/2/2020"
      ]
     },
     "execution_count": 11,
     "metadata": {},
     "output_type": "execute_result"
    }
   ],
   "source": [
    "x"
   ]
  },
  {
   "cell_type": "code",
   "execution_count": 12,
   "id": "5f954eeb",
   "metadata": {},
   "outputs": [
    {
     "data": {
      "text/html": [
       "<div>\n",
       "<style scoped>\n",
       "    .dataframe tbody tr th:only-of-type {\n",
       "        vertical-align: middle;\n",
       "    }\n",
       "\n",
       "    .dataframe tbody tr th {\n",
       "        vertical-align: top;\n",
       "    }\n",
       "\n",
       "    .dataframe thead th {\n",
       "        text-align: right;\n",
       "    }\n",
       "</style>\n",
       "<table border=\"1\" class=\"dataframe\">\n",
       "  <thead>\n",
       "    <tr style=\"text-align: right;\">\n",
       "      <th></th>\n",
       "      <th>typenumber</th>\n",
       "      <th>guests</th>\n",
       "      <th>fare</th>\n",
       "      <th>days</th>\n",
       "      <th>tbill</th>\n",
       "      <th>date</th>\n",
       "    </tr>\n",
       "  </thead>\n",
       "  <tbody>\n",
       "    <tr>\n",
       "      <th>0</th>\n",
       "      <td>e10</td>\n",
       "      <td>2</td>\n",
       "      <td>5000</td>\n",
       "      <td>2</td>\n",
       "      <td>20000</td>\n",
       "      <td>12/2/2020</td>\n",
       "    </tr>\n",
       "    <tr>\n",
       "      <th>1</th>\n",
       "      <td>e10</td>\n",
       "      <td>2</td>\n",
       "      <td>5000</td>\n",
       "      <td>2</td>\n",
       "      <td>20000</td>\n",
       "      <td>12/2/2020</td>\n",
       "    </tr>\n",
       "    <tr>\n",
       "      <th>2</th>\n",
       "      <td>e20</td>\n",
       "      <td>1</td>\n",
       "      <td>2500</td>\n",
       "      <td>6</td>\n",
       "      <td>15000</td>\n",
       "      <td>12/8/2020</td>\n",
       "    </tr>\n",
       "    <tr>\n",
       "      <th>3</th>\n",
       "      <td>e10</td>\n",
       "      <td>2</td>\n",
       "      <td>5000</td>\n",
       "      <td>3</td>\n",
       "      <td>30000</td>\n",
       "      <td>14/2/2020</td>\n",
       "    </tr>\n",
       "    <tr>\n",
       "      <th>4</th>\n",
       "      <td>e10</td>\n",
       "      <td>2</td>\n",
       "      <td>5000</td>\n",
       "      <td>2</td>\n",
       "      <td>20000</td>\n",
       "      <td>12/2/2020</td>\n",
       "    </tr>\n",
       "  </tbody>\n",
       "</table>\n",
       "</div>"
      ],
      "text/plain": [
       "  typenumber  guests  fare  days  tbill       date\n",
       "0        e10       2  5000     2  20000  12/2/2020\n",
       "1        e10       2  5000     2  20000  12/2/2020\n",
       "2        e20       1  2500     6  15000  12/8/2020\n",
       "3        e10       2  5000     3  30000  14/2/2020\n",
       "4        e10       2  5000     2  20000  12/2/2020"
      ]
     },
     "execution_count": 12,
     "metadata": {},
     "output_type": "execute_result"
    }
   ],
   "source": [
    "x.head()"
   ]
  },
  {
   "cell_type": "code",
   "execution_count": 13,
   "id": "cb41d168",
   "metadata": {},
   "outputs": [
    {
     "data": {
      "text/plain": [
       "<bound method NDFrame.describe of   typenumber  guests  fare  days  tbill       date\n",
       "0        e10       2  5000     2  20000  12/2/2020\n",
       "1        e10       2  5000     2  20000  12/2/2020\n",
       "2        e20       1  2500     6  15000  12/8/2020\n",
       "3        e10       2  5000     3  30000  14/2/2020\n",
       "4        e10       2  5000     2  20000  12/2/2020\n",
       "5        e20       1  2500     3   7500  14/2/2020\n",
       "6        e30       1  1000     4   4000  16/2/2020\n",
       "7        e10       2  5000     2  20000  12/2/2020\n",
       "8        e10       2  5000     2  20000  12/2/2020>"
      ]
     },
     "execution_count": 13,
     "metadata": {},
     "output_type": "execute_result"
    }
   ],
   "source": [
    "x.describe"
   ]
  },
  {
   "cell_type": "code",
   "execution_count": 18,
   "id": "166d2755",
   "metadata": {},
   "outputs": [],
   "source": [
    "mycur=conn.cursor()"
   ]
  },
  {
   "cell_type": "code",
   "execution_count": 19,
   "id": "2fa5cf21",
   "metadata": {},
   "outputs": [
    {
     "name": "stdout",
     "output_type": "stream",
     "text": [
      "('e10', 2, 5000, 3, 30000, '14/2/2020')\n"
     ]
    }
   ],
   "source": [
    "mycur.execute(\"select*from checkout where tbill>20000\")\n",
    "myresult=mycur.fetchall()\n",
    "for row in myresult:\n",
    "    print(row)"
   ]
  },
  {
   "cell_type": "code",
   "execution_count": 23,
   "id": "7a9050f4",
   "metadata": {},
   "outputs": [
    {
     "name": "stdout",
     "output_type": "stream",
     "text": [
      "('2', 'priyanka', '960096009600', '10/2/2020', 'e10')\n"
     ]
    }
   ],
   "source": [
    "mycur.execute(\"select*from checkin where names='priyanka'\")\n",
    "res=mycur.fetchall()\n",
    "for row in res:\n",
    "    print(row)"
   ]
  },
  {
   "cell_type": "code",
   "execution_count": null,
   "id": "f81a2982",
   "metadata": {},
   "outputs": [],
   "source": []
  }
 ],
 "metadata": {
  "kernelspec": {
   "display_name": "Python 3",
   "language": "python",
   "name": "python3"
  },
  "language_info": {
   "codemirror_mode": {
    "name": "ipython",
    "version": 3
   },
   "file_extension": ".py",
   "mimetype": "text/x-python",
   "name": "python",
   "nbconvert_exporter": "python",
   "pygments_lexer": "ipython3",
   "version": "3.8.8"
  }
 },
 "nbformat": 4,
 "nbformat_minor": 5
}
